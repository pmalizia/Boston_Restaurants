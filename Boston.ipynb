{
 "cells": [
  {
   "cell_type": "code",
   "execution_count": null,
   "metadata": {},
   "outputs": [
    {
     "ename": "",
     "evalue": "",
     "output_type": "error",
     "traceback": [
      "\u001b[1;31mRunning cells with 'venv' requires the ipykernel package.\n",
      "\u001b[1;31mRun the following command to install 'ipykernel' into the Python environment. \n",
      "\u001b[1;31mCommand: '/Users/paul/venv/bin/python -m pip install ipykernel -U --force-reinstall'"
     ]
    }
   ],
   "source": [
    "import requests\n",
    "import re\n",
    "from bs4 import BeautifulSoup\n",
    "import pandas as pd\n",
    "import numpy as np "
   ]
  },
  {
   "cell_type": "code",
   "execution_count": 16,
   "metadata": {},
   "outputs": [
    {
     "name": "stdout",
     "output_type": "stream",
     "text": [
      "Empty DataFrame\n",
      "Columns: [Restaurant Name, Number of Reviews, Rating, Bayesian]\n",
      "Index: []\n"
     ]
    }
   ],
   "source": [
    "# Define the base URL and the number of pages, scrape proxy\n",
    "access_key = '3765bb2ae3b776bb4dcd5d01b77a7585'\n",
    "base_url = 'http://api.scrapestack.com/'\n",
    "\n",
    "endpoint = 'scrape'\n",
    "url_to_scrape = \"https://www.yelp.com/search?find_desc=Pizza&find_loc=Boston%2C+MA&start=\"\n",
    "\n",
    "df = pd.DataFrame(columns=['Restaurant Name', 'Number of Reviews', 'Rating', 'Bayesian'])\n",
    "name_data, no_ratings, avg_rating  = [], [], [],\n",
    "\n",
    "# Loop through the pages\n",
    "for page_num in range(0, 230, 10):\n",
    "    api_url = f'{base_url}{endpoint}?access_key={access_key}&url={url_to_scrape + str(page_num)}'\n",
    "\n",
    "    # Send a GET request to retrieve the page content\n",
    "    r = requests.get(url_to_scrape + str(page_num))\n",
    "\n",
    "    # Process the content\n",
    "    content = r.text\n",
    "    \n",
    "    # Create the soup\n",
    "    soup = BeautifulSoup(content, 'html.parser')\n",
    "\n",
    "    # Pull name data\n",
    "    nameList = soup.find_all('a', class_='css-19v1rkv', attrs={'name': True})\n",
    "\n",
    "    # Iterate through the soup, placing the elements into the empty list\n",
    "    for name in [element['name'] for element in nameList]:\n",
    "        modified_name = name.replace('%20', ' ')\n",
    "        name_data.append(modified_name)\n",
    "\n",
    "    # Pull the ratings\n",
    "    pattern = r'^\\d+$'\n",
    "    rateList = soup.find_all('span', class_='css-chan6m', string=re.compile(pattern))\n",
    "\n",
    "    # Iterate through the ratings\n",
    "    for rate in rateList:\n",
    "        rate = int(rate.text)\n",
    "        no_ratings.append(rate)\n",
    "\n",
    "    # Pull the avgRating\n",
    "    avgRating = soup.find_all('div', attrs={\"aria-label\": True, \"role\": 'img'})\n",
    "\n",
    "    # Iterate through the avg rating\n",
    "    for rate in avgRating:\n",
    "        rating = rate['aria-label']\n",
    "        if rating[1:2] == '.':\n",
    "            rating = rating[0:3]\n",
    "        else:\n",
    "            rating = rating[0]\n",
    "        avg_rating.append(float(rating))              \n",
    "            \n",
    "df['Restaurant Name'] = name_data\n",
    "df['Number of Reviews'] = no_ratings\n",
    "df['Rating'] = avg_rating\n",
    "\n",
    "print(df)"
   ]
  },
  {
   "cell_type": "code",
   "execution_count": 17,
   "metadata": {},
   "outputs": [
    {
     "name": "stdout",
     "output_type": "stream",
     "text": [
      "Empty DataFrame\n",
      "Columns: [Restaurant Name, Number of Reviews, Rating, Bayesian]\n",
      "Index: []\n"
     ]
    },
    {
     "name": "stderr",
     "output_type": "stream",
     "text": [
      "/Library/Frameworks/Python.framework/Versions/3.11/lib/python3.11/site-packages/numpy/core/fromnumeric.py:3464: RuntimeWarning: Mean of empty slice.\n",
      "  return _methods._mean(a, axis=axis, dtype=dtype,\n",
      "/Library/Frameworks/Python.framework/Versions/3.11/lib/python3.11/site-packages/numpy/core/_methods.py:192: RuntimeWarning: invalid value encountered in scalar divide\n",
      "  ret = ret.dtype.type(ret / rcount)\n"
     ]
    }
   ],
   "source": [
    "m = np.mean(avg_rating)\n",
    "C = 25 # Take the 25 Percentile\n",
    "\n",
    "avg_Bayes = []\n",
    "\n",
    "for i in range(len(name_data)):\n",
    "    avg_Bayes.append((((avg_rating[i] * no_ratings[i]) + C * m)) / (no_ratings[i]+ C))\n",
    "\n",
    "df['Bayesian'] = avg_Bayes\n",
    "print(df)"
   ]
  },
  {
   "cell_type": "code",
   "execution_count": 18,
   "metadata": {},
   "outputs": [
    {
     "name": "stdout",
     "output_type": "stream",
     "text": [
      "Empty DataFrame\n",
      "Columns: [Restaurant Name, Number of Reviews, Rating, Bayesian]\n",
      "Index: []\n"
     ]
    }
   ],
   "source": [
    "sorted_df = df.sort_values(by='Bayesian', ascending=False)\n",
    "\n",
    "first_20 = sorted_df.head(20)\n",
    "\n",
    "print(first_20)"
   ]
  },
  {
   "cell_type": "code",
   "execution_count": 19,
   "metadata": {},
   "outputs": [
    {
     "name": "stdout",
     "output_type": "stream",
     "text": [
      "Dash is running on http://127.0.0.1:8050/\n",
      "\n",
      " * Serving Flask app '__main__'\n",
      " * Debug mode: off\n"
     ]
    },
    {
     "name": "stderr",
     "output_type": "stream",
     "text": [
      "/var/folders/zd/v5t3bvvd4kg89l70bqdf3qbm0000gn/T/ipykernel_19355/815426312.py:2: UserWarning: \n",
      "The dash_core_components package is deprecated. Please replace\n",
      "`import dash_core_components as dcc` with `from dash import dcc`\n",
      "  import dash_core_components as dcc\n",
      "/var/folders/zd/v5t3bvvd4kg89l70bqdf3qbm0000gn/T/ipykernel_19355/815426312.py:3: UserWarning: \n",
      "The dash_html_components package is deprecated. Please replace\n",
      "`import dash_html_components as html` with `from dash import html`\n",
      "  import dash_html_components as html\n",
      "\u001b[31m\u001b[1mWARNING: This is a development server. Do not use it in a production deployment. Use a production WSGI server instead.\u001b[0m\n",
      " * Running on http://127.0.0.1:8050\n",
      "\u001b[33mPress CTRL+C to quit\u001b[0m\n"
     ]
    }
   ],
   "source": [
    "import dash\n",
    "import dash_core_components as dcc\n",
    "import dash_html_components as html\n",
    "from IPython.display import display\n",
    "\n",
    "# Create the Dash app\n",
    "app = dash.Dash(__name__)\n",
    "\n",
    "# Define the layout of the app\n",
    "app.layout = html.Div(\n",
    "    children=[\n",
    "        html.H1(\"Boston Restaurants\"),\n",
    "        dcc.Graph(\n",
    "            id=\"my-graph\",\n",
    "            figure={\n",
    "                \"data\": [{\"x\": first_20['Restaurant Name'], \"y\": first_20['Bayesian'], \"type\": \"bar\", \"name\": \"Data\"}],\n",
    "                \"layout\": {\n",
    "                    \"title\": \"Pizza Restaurants\"},\n",
    "                    \"yaxis\": {\"range\": [0, 5]}\n",
    "            },\n",
    "        ),\n",
    "    ]\n",
    ")\n",
    "\n",
    "# Run the Dash app server\n",
    "app.run_server()\n"
   ]
  }
 ],
 "metadata": {
  "kernelspec": {
   "display_name": "Python 3 (ipykernel)",
   "language": "python",
   "name": "python3"
  },
  "language_info": {
   "codemirror_mode": {
    "name": "ipython",
    "version": 3
   },
   "file_extension": ".py",
   "mimetype": "text/x-python",
   "name": "python",
   "nbconvert_exporter": "python",
   "pygments_lexer": "ipython3",
   "version": "3.11.3"
  }
 },
 "nbformat": 4,
 "nbformat_minor": 4
}
